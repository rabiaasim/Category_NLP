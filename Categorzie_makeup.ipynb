{
 "cells": [
  {
   "cell_type": "code",
   "execution_count": 1,
   "metadata": {},
   "outputs": [],
   "source": [
    "import pandas as pd\n",
    "import numpy as np\n",
    "from sklearn.feature_extraction.text import TfidfVectorizer\n",
    "from sklearn.feature_extraction.text import TfidfTransformer\n",
    "from sklearn.linear_model import LogisticRegression\n",
    "from sklearn.ensemble import RandomForestClassifier\n",
    "from sklearn.svm import LinearSVC\n"
   ]
  },
  {
   "cell_type": "code",
   "execution_count": 2,
   "metadata": {},
   "outputs": [
    {
     "data": {
      "text/plain": [
       "(759, 2)"
      ]
     },
     "execution_count": 2,
     "metadata": {},
     "output_type": "execute_result"
    }
   ],
   "source": [
    "data = pd.read_csv(\"data.csv\")\n",
    "data.head()\n",
    "data.fillna(data['Category '].mode)\n",
    "\n",
    "data.shape"
   ]
  },
  {
   "cell_type": "code",
   "execution_count": 3,
   "metadata": {},
   "outputs": [],
   "source": [
    "X_train = data[\"Full SKU Name\"]\n",
    "y_train = data[\"Category \"]"
   ]
  },
  {
   "cell_type": "code",
   "execution_count": 4,
   "metadata": {},
   "outputs": [
    {
     "data": {
      "text/plain": [
       "0"
      ]
     },
     "execution_count": 4,
     "metadata": {},
     "output_type": "execute_result"
    }
   ],
   "source": [
    "y_train.isnull().sum()"
   ]
  },
  {
   "cell_type": "code",
   "execution_count": 5,
   "metadata": {},
   "outputs": [
    {
     "data": {
      "text/plain": [
       "array(['Hair Care', 'Skin Care', 'Men Expert', 'Eye Makeup',\n",
       "       'Face Makeup', 'Lip Makeup'], dtype=object)"
      ]
     },
     "execution_count": 5,
     "metadata": {},
     "output_type": "execute_result"
    }
   ],
   "source": [
    "y_train.unique()"
   ]
  },
  {
   "cell_type": "code",
   "execution_count": 6,
   "metadata": {},
   "outputs": [],
   "source": [
    "import re\n",
    "import string\n",
    "from nltk.tokenize import RegexpTokenizer\n",
    "from nltk.corpus import stopwords\n",
    "\n",
    "tokenizer = RegexpTokenizer(r'\\w+')\n",
    "en_stopwords = set(stopwords.words('english'))\n",
    "\n",
    "def getCleanText(text):\n",
    "    text = re.sub(\"^\\d+\\s|\\s\\d+\\s|\\s\\d+$\",\"\", text)\n",
    "    text = re.sub('https?://\\S+|www\\.\\S+', '', text)\n",
    "    text = re.sub('<.*?>+', '', text)\n",
    "    text = re.sub('[%s]' % re.escape(string.punctuation), '', text)\n",
    "    text = re.sub('\\n', '', text)\n",
    "    text = re.sub('\\w*\\d\\w*', '', text)\n",
    "    text = str(text).lower()\n",
    "    tokens = tokenizer.tokenize(text)\n",
    "    new_tokens = [token for token in tokens if token not in en_stopwords]\n",
    "    clean_text = \" \".join(new_tokens)\n",
    "    return clean_text"
   ]
  },
  {
   "cell_type": "code",
   "execution_count": 7,
   "metadata": {},
   "outputs": [],
   "source": [
    "x_clean = [getCleanText(i) for i in X_train]"
   ]
  },
  {
   "cell_type": "markdown",
   "metadata": {},
   "source": [
    "VECTORIZATION"
   ]
  },
  {
   "cell_type": "code",
   "execution_count": 8,
   "metadata": {},
   "outputs": [],
   "source": [
    "tfidf = TfidfVectorizer(sublinear_tf=True, min_df=5,\n",
    "                        ngram_range=(1, 2), \n",
    "                        stop_words='english')\n"
   ]
  },
  {
   "cell_type": "code",
   "execution_count": 9,
   "metadata": {},
   "outputs": [
    {
     "data": {
      "text/plain": [
       "(759, 413)"
      ]
     },
     "execution_count": 9,
     "metadata": {},
     "output_type": "execute_result"
    }
   ],
   "source": [
    "x_vec = tfidf.fit_transform(x_clean).toarray()\n",
    "x_vec.shape"
   ]
  },
  {
   "cell_type": "markdown",
   "metadata": {},
   "source": [
    "MODEL"
   ]
  },
  {
   "cell_type": "code",
   "execution_count": 10,
   "metadata": {},
   "outputs": [],
   "source": [
    "model = LinearSVC().fit(x_vec, y_train)"
   ]
  },
  {
   "cell_type": "markdown",
   "metadata": {},
   "source": [
    "TESTING"
   ]
  },
  {
   "cell_type": "code",
   "execution_count": 11,
   "metadata": {},
   "outputs": [
    {
     "data": {
      "text/html": [
       "<div>\n",
       "<style scoped>\n",
       "    .dataframe tbody tr th:only-of-type {\n",
       "        vertical-align: middle;\n",
       "    }\n",
       "\n",
       "    .dataframe tbody tr th {\n",
       "        vertical-align: top;\n",
       "    }\n",
       "\n",
       "    .dataframe thead th {\n",
       "        text-align: right;\n",
       "    }\n",
       "</style>\n",
       "<table border=\"1\" class=\"dataframe\">\n",
       "  <thead>\n",
       "    <tr style=\"text-align: right;\">\n",
       "      <th></th>\n",
       "      <th>product_title</th>\n",
       "      <th>product_vendor</th>\n",
       "      <th>product_type</th>\n",
       "      <th>variant_sku</th>\n",
       "      <th>net_quantity</th>\n",
       "      <th>gross_sales</th>\n",
       "      <th>discounts</th>\n",
       "      <th>returns</th>\n",
       "      <th>net_sales</th>\n",
       "      <th>taxes</th>\n",
       "      <th>total_sales</th>\n",
       "    </tr>\n",
       "  </thead>\n",
       "  <tbody>\n",
       "    <tr>\n",
       "      <th>0</th>\n",
       "      <td>L'Oreal Paris- Rouge Signature 116 Explore</td>\n",
       "      <td>L'Oreal CPD</td>\n",
       "      <td>L'Oreal Paris Makeup</td>\n",
       "      <td>6.9024E+12</td>\n",
       "      <td>11</td>\n",
       "      <td>16246.50</td>\n",
       "      <td>-8921.50</td>\n",
       "      <td>0.0</td>\n",
       "      <td>7325.00</td>\n",
       "      <td>0</td>\n",
       "      <td>7325.00</td>\n",
       "    </tr>\n",
       "    <tr>\n",
       "      <th>1</th>\n",
       "      <td>L'Oreal Paris- Haircare Gala - Dream Long Bund...</td>\n",
       "      <td>L'Oreal CPD</td>\n",
       "      <td>LOSC</td>\n",
       "      <td>bd8833</td>\n",
       "      <td>-1</td>\n",
       "      <td>0.00</td>\n",
       "      <td>0.00</td>\n",
       "      <td>-999.0</td>\n",
       "      <td>-999.00</td>\n",
       "      <td>0</td>\n",
       "      <td>-999.00</td>\n",
       "    </tr>\n",
       "    <tr>\n",
       "      <th>2</th>\n",
       "      <td>L'Oreal Paris- Les Chocolats Lipstick- 868 Cac...</td>\n",
       "      <td>L'Oreal CPD</td>\n",
       "      <td>L'Oreal Paris Makeup</td>\n",
       "      <td>3.60052E+12</td>\n",
       "      <td>1</td>\n",
       "      <td>1250.00</td>\n",
       "      <td>0.00</td>\n",
       "      <td>0.0</td>\n",
       "      <td>1250.00</td>\n",
       "      <td>0</td>\n",
       "      <td>1250.00</td>\n",
       "    </tr>\n",
       "    <tr>\n",
       "      <th>3</th>\n",
       "      <td>NYX Professional Makeup- Total Control Drop Fo...</td>\n",
       "      <td>L'Oreal CPD</td>\n",
       "      <td>NYX Professional Makeup</td>\n",
       "      <td>8.00897E+11</td>\n",
       "      <td>4</td>\n",
       "      <td>7286.40</td>\n",
       "      <td>-2115.72</td>\n",
       "      <td>0.0</td>\n",
       "      <td>5170.68</td>\n",
       "      <td>0</td>\n",
       "      <td>5170.68</td>\n",
       "    </tr>\n",
       "    <tr>\n",
       "      <th>4</th>\n",
       "      <td>NYX Professional Makeup Liquid Suede Cream Lip...</td>\n",
       "      <td>L'Oreal CPD</td>\n",
       "      <td>NYX Professional Makeup</td>\n",
       "      <td>8.00898E+11</td>\n",
       "      <td>25</td>\n",
       "      <td>17208.15</td>\n",
       "      <td>-839.00</td>\n",
       "      <td>0.0</td>\n",
       "      <td>16369.15</td>\n",
       "      <td>0</td>\n",
       "      <td>16369.15</td>\n",
       "    </tr>\n",
       "  </tbody>\n",
       "</table>\n",
       "</div>"
      ],
      "text/plain": [
       "                                       product_title product_vendor  \\\n",
       "0         L'Oreal Paris- Rouge Signature 116 Explore    L'Oreal CPD   \n",
       "1  L'Oreal Paris- Haircare Gala - Dream Long Bund...    L'Oreal CPD   \n",
       "2  L'Oreal Paris- Les Chocolats Lipstick- 868 Cac...    L'Oreal CPD   \n",
       "3  NYX Professional Makeup- Total Control Drop Fo...    L'Oreal CPD   \n",
       "4  NYX Professional Makeup Liquid Suede Cream Lip...    L'Oreal CPD   \n",
       "\n",
       "              product_type  variant_sku  net_quantity  gross_sales  discounts  \\\n",
       "0     L'Oreal Paris Makeup   6.9024E+12            11     16246.50   -8921.50   \n",
       "1                     LOSC       bd8833            -1         0.00       0.00   \n",
       "2     L'Oreal Paris Makeup  3.60052E+12             1      1250.00       0.00   \n",
       "3  NYX Professional Makeup  8.00897E+11             4      7286.40   -2115.72   \n",
       "4  NYX Professional Makeup  8.00898E+11            25     17208.15    -839.00   \n",
       "\n",
       "   returns  net_sales  taxes  total_sales  \n",
       "0      0.0    7325.00      0      7325.00  \n",
       "1   -999.0    -999.00      0      -999.00  \n",
       "2      0.0    1250.00      0      1250.00  \n",
       "3      0.0    5170.68      0      5170.68  \n",
       "4      0.0   16369.15      0     16369.15  "
      ]
     },
     "execution_count": 11,
     "metadata": {},
     "output_type": "execute_result"
    }
   ],
   "source": [
    "#First Clean the text data to be tested\n",
    "\n",
    "test = pd.read_csv(\"sales_2021-08-01_2021-09-24.csv\")\n",
    "test.head()"
   ]
  },
  {
   "cell_type": "code",
   "execution_count": 12,
   "metadata": {},
   "outputs": [],
   "source": [
    "test_title=test['product_title']\n"
   ]
  },
  {
   "cell_type": "code",
   "execution_count": 13,
   "metadata": {},
   "outputs": [],
   "source": [
    "# text = [\"Maybelline New York- Clearsmooth All In One Two Way Cake 02 Nude Beige - Refill\"]\n",
    "test_clean = [getCleanText(i) for i in test_title]\n",
    "test_vec = tfidf.transform(test_clean).toarray()"
   ]
  },
  {
   "cell_type": "code",
   "execution_count": 14,
   "metadata": {},
   "outputs": [],
   "source": [
    "test['pred'] = model.predict(test_vec)"
   ]
  },
  {
   "cell_type": "code",
   "execution_count": 15,
   "metadata": {},
   "outputs": [
    {
     "data": {
      "text/html": [
       "<div>\n",
       "<style scoped>\n",
       "    .dataframe tbody tr th:only-of-type {\n",
       "        vertical-align: middle;\n",
       "    }\n",
       "\n",
       "    .dataframe tbody tr th {\n",
       "        vertical-align: top;\n",
       "    }\n",
       "\n",
       "    .dataframe thead th {\n",
       "        text-align: right;\n",
       "    }\n",
       "</style>\n",
       "<table border=\"1\" class=\"dataframe\">\n",
       "  <thead>\n",
       "    <tr style=\"text-align: right;\">\n",
       "      <th></th>\n",
       "      <th>product_title</th>\n",
       "      <th>product_vendor</th>\n",
       "      <th>product_type</th>\n",
       "      <th>variant_sku</th>\n",
       "      <th>net_quantity</th>\n",
       "      <th>gross_sales</th>\n",
       "      <th>discounts</th>\n",
       "      <th>returns</th>\n",
       "      <th>net_sales</th>\n",
       "      <th>taxes</th>\n",
       "      <th>total_sales</th>\n",
       "      <th>pred</th>\n",
       "    </tr>\n",
       "  </thead>\n",
       "  <tbody>\n",
       "    <tr>\n",
       "      <th>0</th>\n",
       "      <td>L'Oreal Paris- Rouge Signature 116 Explore</td>\n",
       "      <td>L'Oreal CPD</td>\n",
       "      <td>L'Oreal Paris Makeup</td>\n",
       "      <td>6.9024E+12</td>\n",
       "      <td>11</td>\n",
       "      <td>16246.50</td>\n",
       "      <td>-8921.50</td>\n",
       "      <td>0.0</td>\n",
       "      <td>7325.00</td>\n",
       "      <td>0</td>\n",
       "      <td>7325.00</td>\n",
       "      <td>Face Makeup</td>\n",
       "    </tr>\n",
       "    <tr>\n",
       "      <th>1</th>\n",
       "      <td>L'Oreal Paris- Haircare Gala - Dream Long Bund...</td>\n",
       "      <td>L'Oreal CPD</td>\n",
       "      <td>LOSC</td>\n",
       "      <td>bd8833</td>\n",
       "      <td>-1</td>\n",
       "      <td>0.00</td>\n",
       "      <td>0.00</td>\n",
       "      <td>-999.0</td>\n",
       "      <td>-999.00</td>\n",
       "      <td>0</td>\n",
       "      <td>-999.00</td>\n",
       "      <td>Hair Care</td>\n",
       "    </tr>\n",
       "    <tr>\n",
       "      <th>2</th>\n",
       "      <td>L'Oreal Paris- Les Chocolats Lipstick- 868 Cac...</td>\n",
       "      <td>L'Oreal CPD</td>\n",
       "      <td>L'Oreal Paris Makeup</td>\n",
       "      <td>3.60052E+12</td>\n",
       "      <td>1</td>\n",
       "      <td>1250.00</td>\n",
       "      <td>0.00</td>\n",
       "      <td>0.0</td>\n",
       "      <td>1250.00</td>\n",
       "      <td>0</td>\n",
       "      <td>1250.00</td>\n",
       "      <td>Lip Makeup</td>\n",
       "    </tr>\n",
       "    <tr>\n",
       "      <th>3</th>\n",
       "      <td>NYX Professional Makeup- Total Control Drop Fo...</td>\n",
       "      <td>L'Oreal CPD</td>\n",
       "      <td>NYX Professional Makeup</td>\n",
       "      <td>8.00897E+11</td>\n",
       "      <td>4</td>\n",
       "      <td>7286.40</td>\n",
       "      <td>-2115.72</td>\n",
       "      <td>0.0</td>\n",
       "      <td>5170.68</td>\n",
       "      <td>0</td>\n",
       "      <td>5170.68</td>\n",
       "      <td>Face Makeup</td>\n",
       "    </tr>\n",
       "    <tr>\n",
       "      <th>4</th>\n",
       "      <td>NYX Professional Makeup Liquid Suede Cream Lip...</td>\n",
       "      <td>L'Oreal CPD</td>\n",
       "      <td>NYX Professional Makeup</td>\n",
       "      <td>8.00898E+11</td>\n",
       "      <td>25</td>\n",
       "      <td>17208.15</td>\n",
       "      <td>-839.00</td>\n",
       "      <td>0.0</td>\n",
       "      <td>16369.15</td>\n",
       "      <td>0</td>\n",
       "      <td>16369.15</td>\n",
       "      <td>Face Makeup</td>\n",
       "    </tr>\n",
       "    <tr>\n",
       "      <th>...</th>\n",
       "      <td>...</td>\n",
       "      <td>...</td>\n",
       "      <td>...</td>\n",
       "      <td>...</td>\n",
       "      <td>...</td>\n",
       "      <td>...</td>\n",
       "      <td>...</td>\n",
       "      <td>...</td>\n",
       "      <td>...</td>\n",
       "      <td>...</td>\n",
       "      <td>...</td>\n",
       "      <td>...</td>\n",
       "    </tr>\n",
       "    <tr>\n",
       "      <th>974</th>\n",
       "      <td>Maybelline New York- Eye Studio Gel Liner 24H ...</td>\n",
       "      <td>LOreal CPD</td>\n",
       "      <td>Maybelline New York</td>\n",
       "      <td>6.9024E+12</td>\n",
       "      <td>1</td>\n",
       "      <td>1329.30</td>\n",
       "      <td>0.00</td>\n",
       "      <td>0.0</td>\n",
       "      <td>1329.30</td>\n",
       "      <td>0</td>\n",
       "      <td>1329.30</td>\n",
       "      <td>Eye Makeup</td>\n",
       "    </tr>\n",
       "    <tr>\n",
       "      <th>975</th>\n",
       "      <td>LOreal Paris- La Vie En Glow Highlighting Powd...</td>\n",
       "      <td>LOreal CPD</td>\n",
       "      <td>LOreal Paris Makeup</td>\n",
       "      <td>3.60052E+12</td>\n",
       "      <td>1</td>\n",
       "      <td>2279.00</td>\n",
       "      <td>-209.99</td>\n",
       "      <td>0.0</td>\n",
       "      <td>2069.01</td>\n",
       "      <td>0</td>\n",
       "      <td>2069.01</td>\n",
       "      <td>Face Makeup</td>\n",
       "    </tr>\n",
       "    <tr>\n",
       "      <th>976</th>\n",
       "      <td>Maybelline New York Master Sculpt 02 Medium/Dark</td>\n",
       "      <td>LOreal CPD</td>\n",
       "      <td>Maybelline New York</td>\n",
       "      <td>3.60053E+12</td>\n",
       "      <td>1</td>\n",
       "      <td>1104.35</td>\n",
       "      <td>0.00</td>\n",
       "      <td>0.0</td>\n",
       "      <td>1104.35</td>\n",
       "      <td>0</td>\n",
       "      <td>1104.35</td>\n",
       "      <td>Face Makeup</td>\n",
       "    </tr>\n",
       "    <tr>\n",
       "      <th>977</th>\n",
       "      <td>NYX Professional Makeup- Soft Matte Lip Cream ...</td>\n",
       "      <td>LOreal CPD</td>\n",
       "      <td>NYX Professional Makeup</td>\n",
       "      <td>8.00898E+11</td>\n",
       "      <td>1</td>\n",
       "      <td>734.00</td>\n",
       "      <td>-102.76</td>\n",
       "      <td>0.0</td>\n",
       "      <td>631.24</td>\n",
       "      <td>0</td>\n",
       "      <td>631.24</td>\n",
       "      <td>Lip Makeup</td>\n",
       "    </tr>\n",
       "    <tr>\n",
       "      <th>978</th>\n",
       "      <td>LOreal Paris- Infaillible Mattifying Primer</td>\n",
       "      <td>LOreal CPD</td>\n",
       "      <td>LOreal Paris Makeup</td>\n",
       "      <td>3600522877301-old</td>\n",
       "      <td>1</td>\n",
       "      <td>875.00</td>\n",
       "      <td>0.00</td>\n",
       "      <td>0.0</td>\n",
       "      <td>875.00</td>\n",
       "      <td>0</td>\n",
       "      <td>875.00</td>\n",
       "      <td>Face Makeup</td>\n",
       "    </tr>\n",
       "  </tbody>\n",
       "</table>\n",
       "<p>979 rows × 12 columns</p>\n",
       "</div>"
      ],
      "text/plain": [
       "                                         product_title product_vendor  \\\n",
       "0           L'Oreal Paris- Rouge Signature 116 Explore    L'Oreal CPD   \n",
       "1    L'Oreal Paris- Haircare Gala - Dream Long Bund...    L'Oreal CPD   \n",
       "2    L'Oreal Paris- Les Chocolats Lipstick- 868 Cac...    L'Oreal CPD   \n",
       "3    NYX Professional Makeup- Total Control Drop Fo...    L'Oreal CPD   \n",
       "4    NYX Professional Makeup Liquid Suede Cream Lip...    L'Oreal CPD   \n",
       "..                                                 ...            ...   \n",
       "974  Maybelline New York- Eye Studio Gel Liner 24H ...     LOreal CPD   \n",
       "975  LOreal Paris- La Vie En Glow Highlighting Powd...     LOreal CPD   \n",
       "976   Maybelline New York Master Sculpt 02 Medium/Dark     LOreal CPD   \n",
       "977  NYX Professional Makeup- Soft Matte Lip Cream ...     LOreal CPD   \n",
       "978        LOreal Paris- Infaillible Mattifying Primer     LOreal CPD   \n",
       "\n",
       "                product_type        variant_sku  net_quantity  gross_sales  \\\n",
       "0       L'Oreal Paris Makeup         6.9024E+12            11     16246.50   \n",
       "1                       LOSC             bd8833            -1         0.00   \n",
       "2       L'Oreal Paris Makeup        3.60052E+12             1      1250.00   \n",
       "3    NYX Professional Makeup        8.00897E+11             4      7286.40   \n",
       "4    NYX Professional Makeup        8.00898E+11            25     17208.15   \n",
       "..                       ...                ...           ...          ...   \n",
       "974      Maybelline New York         6.9024E+12             1      1329.30   \n",
       "975      LOreal Paris Makeup        3.60052E+12             1      2279.00   \n",
       "976      Maybelline New York        3.60053E+12             1      1104.35   \n",
       "977  NYX Professional Makeup        8.00898E+11             1       734.00   \n",
       "978      LOreal Paris Makeup  3600522877301-old             1       875.00   \n",
       "\n",
       "     discounts  returns  net_sales  taxes  total_sales         pred  \n",
       "0     -8921.50      0.0    7325.00      0      7325.00  Face Makeup  \n",
       "1         0.00   -999.0    -999.00      0      -999.00    Hair Care  \n",
       "2         0.00      0.0    1250.00      0      1250.00   Lip Makeup  \n",
       "3     -2115.72      0.0    5170.68      0      5170.68  Face Makeup  \n",
       "4      -839.00      0.0   16369.15      0     16369.15  Face Makeup  \n",
       "..         ...      ...        ...    ...          ...          ...  \n",
       "974       0.00      0.0    1329.30      0      1329.30   Eye Makeup  \n",
       "975    -209.99      0.0    2069.01      0      2069.01  Face Makeup  \n",
       "976       0.00      0.0    1104.35      0      1104.35  Face Makeup  \n",
       "977    -102.76      0.0     631.24      0       631.24   Lip Makeup  \n",
       "978       0.00      0.0     875.00      0       875.00  Face Makeup  \n",
       "\n",
       "[979 rows x 12 columns]"
      ]
     },
     "execution_count": 15,
     "metadata": {},
     "output_type": "execute_result"
    }
   ],
   "source": [
    "test"
   ]
  },
  {
   "cell_type": "code",
   "execution_count": null,
   "metadata": {},
   "outputs": [],
   "source": []
  },
  {
   "cell_type": "code",
   "execution_count": null,
   "metadata": {},
   "outputs": [],
   "source": []
  },
  {
   "cell_type": "code",
   "execution_count": null,
   "metadata": {},
   "outputs": [],
   "source": []
  }
 ],
 "metadata": {
  "kernelspec": {
   "display_name": "Python 3",
   "language": "python",
   "name": "python3"
  },
  "language_info": {
   "codemirror_mode": {
    "name": "ipython",
    "version": 3
   },
   "file_extension": ".py",
   "mimetype": "text/x-python",
   "name": "python",
   "nbconvert_exporter": "python",
   "pygments_lexer": "ipython3",
   "version": "3.8.5"
  }
 },
 "nbformat": 4,
 "nbformat_minor": 4
}
